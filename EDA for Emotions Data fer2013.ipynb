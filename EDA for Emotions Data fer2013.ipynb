{
 "cells": [
  {
   "cell_type": "code",
   "execution_count": 1,
   "metadata": {},
   "outputs": [],
   "source": [
    "import numpy as np\n",
    "import pandas as pd\n",
    "import matplotlib.pyplot as plt\n",
    "import seaborn as sns\n",
    "from sklearn.datasets import load_breast_cancer\n",
    "from sklearn.model_selection import train_test_split\n",
    "from sklearn.linear_model import LogisticRegression\n",
    "from sklearn import metrics\n",
    "%matplotlib inline"
   ]
  },
  {
   "cell_type": "code",
   "execution_count": 2,
   "metadata": {},
   "outputs": [],
   "source": [
    "data = pd.read_csv('/Users/alamer/Downloads/Artificial Intelligence - Samsung Innovation Campus with Misk Academy/Capstone Project/Model and Data/emotion_part copy 2/fer2013.csv', header='infer',na_values=[' '])\n"
   ]
  },
  {
   "cell_type": "code",
   "execution_count": 3,
   "metadata": {},
   "outputs": [
    {
     "name": "stdout",
     "output_type": "stream",
     "text": [
      "0        70 80 82 72 58 58 60 63 54 58 60 48 89 115 121...\n",
      "1        151 150 147 155 148 133 111 140 170 174 182 15...\n",
      "2        231 212 156 164 174 138 161 173 182 200 106 38...\n",
      "3        24 32 36 30 32 23 19 20 30 41 21 22 32 34 21 1...\n",
      "4        4 0 0 0 0 0 0 0 0 0 0 0 3 15 23 28 48 50 58 84...\n",
      "                               ...                        \n",
      "35882    50 36 17 22 23 29 33 39 34 37 37 37 39 43 48 5...\n",
      "35883    178 174 172 173 181 188 191 194 196 199 200 20...\n",
      "35884    17 17 16 23 28 22 19 17 25 26 20 24 31 19 27 9...\n",
      "35885    30 28 28 29 31 30 42 68 79 81 77 67 67 71 63 6...\n",
      "35886    19 13 14 12 13 16 21 33 50 57 71 84 97 108 122...\n",
      "Name: pixels, Length: 35887, dtype: object\n"
     ]
    }
   ],
   "source": [
    "print(data.pixels)\n"
   ]
  },
  {
   "cell_type": "code",
   "execution_count": 4,
   "metadata": {},
   "outputs": [
    {
     "name": "stdout",
     "output_type": "stream",
     "text": [
      "0        70 80 82 72 58 58 60 63 54 58 60 48 89 115 121...\n",
      "1        151 150 147 155 148 133 111 140 170 174 182 15...\n",
      "2        231 212 156 164 174 138 161 173 182 200 106 38...\n",
      "3        24 32 36 30 32 23 19 20 30 41 21 22 32 34 21 1...\n",
      "4        4 0 0 0 0 0 0 0 0 0 0 0 3 15 23 28 48 50 58 84...\n",
      "                               ...                        \n",
      "35882    50 36 17 22 23 29 33 39 34 37 37 37 39 43 48 5...\n",
      "35883    178 174 172 173 181 188 191 194 196 199 200 20...\n",
      "35884    17 17 16 23 28 22 19 17 25 26 20 24 31 19 27 9...\n",
      "35885    30 28 28 29 31 30 42 68 79 81 77 67 67 71 63 6...\n",
      "35886    19 13 14 12 13 16 21 33 50 57 71 84 97 108 122...\n",
      "Name: pixels, Length: 35887, dtype: object\n"
     ]
    }
   ],
   "source": [
    "X = data['emotion']\n",
    "print(data['pixels'])"
   ]
  },
  {
   "cell_type": "code",
   "execution_count": 6,
   "metadata": {},
   "outputs": [],
   "source": [
    " y = X.astype(np.float)"
   ]
  },
  {
   "cell_type": "code",
   "execution_count": null,
   "metadata": {},
   "outputs": [],
   "source": []
  },
  {
   "cell_type": "code",
   "execution_count": 7,
   "metadata": {},
   "outputs": [
    {
     "data": {
      "text/plain": [
       "3    8989\n",
       "6    6198\n",
       "4    6077\n",
       "2    5121\n",
       "0    4953\n",
       "5    4002\n",
       "1     547\n",
       "Name: emotion, dtype: int64"
      ]
     },
     "execution_count": 7,
     "metadata": {},
     "output_type": "execute_result"
    }
   ],
   "source": [
    "frequencies = data.emotion.value_counts()\n",
    "frequencies"
   ]
  },
  {
   "cell_type": "code",
   "execution_count": 8,
   "metadata": {},
   "outputs": [
    {
     "data": {
      "text/html": [
       "<div>\n",
       "<style scoped>\n",
       "    .dataframe tbody tr th:only-of-type {\n",
       "        vertical-align: middle;\n",
       "    }\n",
       "\n",
       "    .dataframe tbody tr th {\n",
       "        vertical-align: top;\n",
       "    }\n",
       "\n",
       "    .dataframe thead th {\n",
       "        text-align: right;\n",
       "    }\n",
       "</style>\n",
       "<table border=\"1\" class=\"dataframe\">\n",
       "  <thead>\n",
       "    <tr style=\"text-align: right;\">\n",
       "      <th></th>\n",
       "      <th>Counts</th>\n",
       "    </tr>\n",
       "  </thead>\n",
       "  <tbody>\n",
       "    <tr>\n",
       "      <th>Angry</th>\n",
       "      <td>4953</td>\n",
       "    </tr>\n",
       "    <tr>\n",
       "      <th>Disgust</th>\n",
       "      <td>547</td>\n",
       "    </tr>\n",
       "    <tr>\n",
       "      <th>Fear</th>\n",
       "      <td>5121</td>\n",
       "    </tr>\n",
       "    <tr>\n",
       "      <th>Happy</th>\n",
       "      <td>8989</td>\n",
       "    </tr>\n",
       "    <tr>\n",
       "      <th>Sad</th>\n",
       "      <td>6077</td>\n",
       "    </tr>\n",
       "    <tr>\n",
       "      <th>Suprise</th>\n",
       "      <td>4002</td>\n",
       "    </tr>\n",
       "    <tr>\n",
       "      <th>Neutral</th>\n",
       "      <td>6198</td>\n",
       "    </tr>\n",
       "  </tbody>\n",
       "</table>\n",
       "</div>"
      ],
      "text/plain": [
       "         Counts\n",
       "Angry      4953\n",
       "Disgust     547\n",
       "Fear       5121\n",
       "Happy      8989\n",
       "Sad        6077\n",
       "Suprise    4002\n",
       "Neutral    6198"
      ]
     },
     "execution_count": 8,
     "metadata": {},
     "output_type": "execute_result"
    }
   ],
   "source": [
    "df2 = pd.DataFrame( {'Counts':[frequencies[0], frequencies[1], frequencies[2], frequencies[3],\n",
    "                              frequencies[4], frequencies[5], frequencies[6]] }, \n",
    "                   index=['Angry','Disgust', 'Fear', 'Happy','Sad', 'Suprise', 'Neutral'])\n",
    "df2"
   ]
  },
  {
   "cell_type": "code",
   "execution_count": 9,
   "metadata": {},
   "outputs": [
    {
     "data": {
      "image/png": "[encoded data removed]",
      "text/plain": [
       "<Figure size 432x288 with 1 Axes>"
      ]
     },
     "metadata": {
      "needs_background": "light"
     },
     "output_type": "display_data"
    }
   ],
   "source": [
    "df2.plot.bar(color='purple', alpha=0.5)\n",
    "plt.show()"
   ]
  },
  {
   "cell_type": "code",
   "execution_count": null,
   "metadata": {},
   "outputs": [],
   "source": []
  }
 ],
 "metadata": {
  "kernelspec": {
   "display_name": "Python 3",
   "language": "python",
   "name": "python3"
  },
  "language_info": {
   "codemirror_mode": {
    "name": "ipython",
    "version": 3
   },
   "file_extension": ".py",
   "mimetype": "text/x-python",
   "name": "python",
   "nbconvert_exporter": "python",
   "pygments_lexer": "ipython3",
   "version": "3.7.9"
  }
 },
 "nbformat": 4,
 "nbformat_minor": 4
}
